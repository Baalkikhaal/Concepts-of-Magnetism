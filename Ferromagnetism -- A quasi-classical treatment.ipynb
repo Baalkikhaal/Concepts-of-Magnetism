{
 "cells": [
  {
   "cell_type": "markdown",
   "metadata": {},
   "source": [
    "# Quasi-classical ferromagnetism -- exchange interaction\n",
    "\n",
    "`Ferromagnetic behaviour` differs from that of diamagnetism and paramagnetism when the external applied field is zero. Under $H=0$ condition, $M_{z} = 0$ defines diamagnetic behaviour whereas $\\langle M_{z} \\rangle = 0$ defines paramagnetic behaviour. However, ferromagnetism is defined by the `experimental fact` that $\\langle M_{z} \\rangle \\neq 0$ even at $H=0$. This property of ferromagnetic behaviour is called `spontaneous magnetization` and is observed in two of the universal measurements of ferromagnetic behaviour:\n",
    "\n",
    "- hysteresis curve,\n",
    "- $M_{z} \\text{ vs }  T$ curve.\n",
    "\n",
    "To understand the observed ferromagnetism, earliest attempts in 1907 made by Pierre Ernest Weiss made the following `assumptions` that"
   ]
  },
  {
   "cell_type": "markdown",
   "metadata": {},
   "source": [
    "![Weiss-1907](Pierre_Ernest_Weiss2.jpg)"
   ]
  },
  {
   "cell_type": "markdown",
   "metadata": {},
   "source": [
    "- there is an internal field called the `molecular field` which enables parallel alignment of spins to explain the spontaneous magnetization and the M-T curve of ferromagnetic behaviour.\n",
    "- there exists `domains` within each of which the spins remain aligned and that the effect of external field is to align the random orientation of domains; this assumption was made to explain the hysteresis curve of ferromagnetic behaviour\n",
    "\n",
    "This molecular field theory *qualitatively* explains the ferromagnetic behaviour. However the underlying basis of two assumptions of molecular field and domains needs a quantum mechanics basis which made its advent only in the 1920's.\n",
    "\n",
    "## Exchange interaction\n",
    "\n",
    "Rather than invoking quantum mechanics, we shall use the quasi-classical approach in which we shall try to *justify* the presence of the molecular field of Weiss in a much more *quantitative* form. Here, we make the `assumption` of an `exchange interaction` between the spins which can be thought of as a force trying to align the adjacent spins. Postponing the quantum mechanical origins of the the exchange interaction for the current analysis, the corresponding energy term for the interaction is given by\n",
    "\n",
    "$$\n",
    "E_{ex} = - J_{ij} \\vec{S_{i}}\\cdot \\vec{S_{j}}\n",
    "$$\n",
    "\n",
    "between spins $S_{i}$ and $S_{j}$ with $J_{ij}$ being the coupling constant also called `exchange integrals` and a positive value favouring parallel spin configuration for the case of ferromagnetism. Note that these spins need not be *adjacent*.\n",
    "\n",
    "Including this exchange term to the Zeeman energy term in the analysis similat to that employed in the study of quasi-classical paramagnetism, we have\n",
    "\n",
    "$$\n",
    "E = -\\sum_{ij}^{'} J_{ij} \\vec{S_{i}}\\cdot \\vec{S_{j}} - \\sum_{i} g \\mu_{B} \\vec{S_{i}}\\cdot \\vec{H_{\\phantom{i}}},\n",
    "$$\n",
    "\n",
    "where prime over the first sum suggests that the $i=j$ case is excluded."
   ]
  },
  {
   "cell_type": "markdown",
   "metadata": {},
   "source": [
    "> In the analysis of paramagnetism, since there was no interaction between the spins, each spin is *no different* from any other spins. Hence the statistics of spin $S_{i}$ is the same as that of any other spin $S_{j}$.\n",
    "> $$\\langle S_{i_{z}} \\rangle = \\langle S_{j_{z}} \\rangle = \\langle S_{{individual_{z}}} \\rangle $$\n",
    " \n",
    "So the thermodynamic average for the spin component is simply\n",
    "\\begin{eqnarray}\n",
    "\\langle S_{{thermo}_{z}} \\rangle & = & \\frac{1}{N}\\langle\\sum_{i=1}^{N} S_{i_{z}} \\rangle, \\\\\n",
    "                      & = & \\frac{1}{N} \\sum_{i=1}^{N} \\langle S_{i_{z}} \\rangle, \\\\\n",
    "                      & = & \\frac{1}{N} \\sum_{i=1}^{N} \\langle S_{{individual}_{z}} \\rangle , \\\\\n",
    "                      & = & \\langle S_{{individual}_{z}} \\rangle.\n",
    "\\end{eqnarray}\n",
    "\n",
    "As a result, for intensive quantities like the spin, the thermodynamic average is equal to the individual average.\n",
    "> In the analysis of ferromagnetism, due to the exchange interaction this equality does not hold in general. However, under certain `approximation`, we can try to translate  the problem of coupled spins to the problem of individual spins; this is the so called `molecular field approximation`."
   ]
  },
  {
   "cell_type": "markdown",
   "metadata": {},
   "source": [
    "## Molecular field approximation -- tagging and untagging\n",
    "\n",
    "The molecular field approximation involves translating the exchange interaction between a particular spin and the rest of the spins into an interaction of that particular spin and effective field as a result of the `average` behaviour of the rest of the spins. The procedure involves the following steps:\n",
    "\n",
    "- `tagging` a particular spin, say $S_{i}$\n",
    "- *approximating* the interaction of $S_{i}$ and $S_{j}$ with the interaction of $S_{i}$ and average of $S_{j}$ i.e.\n",
    "\n",
    "$$\n",
    "\\vec{S_{i}}\\cdot \\vec{S_{j}} \\sim \\vec{S_{i}}\\cdot \\langle \\vec{S_{j}} \\rangle.\n",
    "$$\n",
    "\n",
    "So under this approximation, the energy of the system gets partitioned into terms $E_{i}$ where\n",
    "\n",
    "$$\n",
    "2 E = \\sum E_{i}\n",
    "$$\n",
    "\n",
    "where\n",
    "\n",
    "\\begin{eqnarray}\n",
    "E_{i} & = & -\\sum_{j}^{'} J_{ij} \\vec{S_{i}}\\cdot \\vec{S_{j}} - g \\mu_{B} \\vec{S_{i}}\\cdot \\vec{H_{\\phantom{i}}}, \\\\\n",
    "      & \\downarrow &   (S_{j} \\sim \\langle S_{j} \\rangle ), \\\\\n",
    "      & \\sim & -2 \\sum_{j} J_{ij} \\vec{S_{i}}\\cdot \\langle \\vec{S_{j}} \\rangle - g \\mu_{B} \\vec{S_{i}}\\cdot \\vec{H_{\\phantom{i}}}, \\\\\n",
    "      & = & -\\vec{S_{i}}\\cdot \\big( 2 \\sum_{j} J_{ij} \\vec{S_{i}}\\cdot \\langle \\vec{S_{j}} \\rangle + g \\mu_{B} \\vec{H_{\\phantom{i}}} \\big), \\\\\n",
    "      & = & -\\vec{S_{i}}\\cdot \\vec{H_{i}}\n",
    "\\end{eqnarray}"
   ]
  },
  {
   "cell_type": "markdown",
   "metadata": {},
   "source": [
    "where $\\vec{H_{i}}$ is the effective field interacting with the specific spin $S_{i}$. \n",
    "> To the present approximation, the exchange interaction turns out to be the equivalent to an interaction of each spin with an effective field.\n",
    "> Properties of the effective field:\n",
    "> - This effective field is **non-zero** even when the applied field is **zero**.\n",
    "> - This effective field is essentially the assumption of Weiss. Hence it is called Weiss molecular field or Weiss field.\n",
    "> - The occurence of this effective field relies on the arbitrary postulate of existence of exchange interaction as well as the mean field approximation. Hence it is also called the `mean field`.\n",
    "\n",
    "- let us now do the `untagging` which means on the average the spin $S_{i}$ is not any different from other spins. i.e.\n",
    "\n",
    "$$\n",
    "\\langle S_{i} \\rangle \\longrightarrow_{untagging} \\langle S \\rangle\n",
    "$$\n",
    "\n",
    "Therefore, the statistical average of qunatitites correpsonding to the energy $E_{i}$ itself are the statistical average of quantitites $E$ with the corresponding factor of number of spins.\n",
    "\n",
    "In comparison to paramagnetism energy $E_{i}$ and solution $\\langle S_{z} \\rangle$\n",
    "\n",
    "\\begin{eqnarray}\n",
    " E_{i} & = & -g \\mu_{B} \\vec{S_{i}}\\cdot \\vec{H_{\\phantom{i}}}, \\\\\n",
    " \\langle S_{z} \\rangle & = & S B_{S} \\Big( \\frac{g \\mu_{B}}{k_{B}T} S H\\Big),\n",
    "\\end{eqnarray}\n",
    "\n",
    "where $B_{S}$ is the Brillouin function, similarly for ferromagnetism, after considering the normalization of the Brillouin function.\n",
    "\n",
    "\\begin{eqnarray}\n",
    "E_{i} & = & -\\vec{S_{i}}\\cdot \\vec{H_{i}}, \\\\\n",
    "\\langle S_{z} \\rangle & = & S B_{S} \\Big( \\frac{S H_{i}}{k_{B}T} \\Big), \\\\\n",
    "      & = & S B_{S}\\Big( \\frac{S}{k_{B}T} \\Big[ g \\mu_{B} H + 2 \\vec{S_{i_{z}}}\\sum_{j}  J_{ij}  \\Big] \\Big), \\\\\n",
    "      \\text{Lets untag} \\qquad \\qquad \\langle S_{i} \\rangle & \\longrightarrow & \\langle S \\rangle ,\\\\\n",
    "      & = & S B_{S}\\Big( \\frac{S}{k_{B}T} \\Big[ g \\mu_{B} H + 2 \\langle S_{z} \\rangle \\sum_{j} J_{ij} \\Big] \\Big),\n",
    "\\end{eqnarray}\n",
    "\n",
    "The untagging is *not complete*. Yet we have a transcendental equation to determine $\\langle S_{z} \\rangle$. To remove the $i$ from the summation, we need to make another `assumption`.\n",
    "\n",
    "> Nearest neighbour approximation:\n",
    "> That the spin $S_{i}$ interacts with only the nearest neighbours and that it has a non-zero universal value $J$ for nearest neighbours.\n",
    "\n",
    "If there are $p$ nearest neighbours then\n",
    "\n",
    "$$\n",
    "\\langle S_{z} \\rangle = S B_{S}\\Big( \\frac{S}{k_{B}T} \\Big[ g \\mu_{B} H + 2 p J \\langle S_{z} \\rangle \\Big] \\Big)\n",
    "$$\n",
    "\n",
    "\\begin{eqnarray}\n",
    "\\text{Using} \\qquad \\mu & = & \\frac{\\langle S_{z} \\rangle}{S}, \\\\\n",
    "                      h & = & \\frac{g \\mu_{B} S H}{k_{B}T}, \\\\\n",
    "\\text{and} \\qquad \\alpha(T) & = & \\frac{2S^{2}}{k_{B}T}\\sum J_{ij} = \\Big[ \\frac{2S^{2}}{k_{B}T} pJ \\Big].                      \n",
    "\\end{eqnarray}\n",
    "\n",
    "> <span style=\"color:red\">$$\\mu  =  B_{S}(h + \\alpha \\mu).$$</span>\n",
    "\n",
    "The solution to this *transcendental equation* equation is **not analytic**. However it can be solved *numerically*. Keeping the solution in-tandem with the experimental observation of $M \\text{ vs } T$, we obtain $\\mu_{h}(\\alpha)$ numerically. In the limit of vanishing $h$, the plot resembles that of $M-T$ curve of ferromagnetic behaviour that of spontaneous magnetization.\n",
    "\n",
    "There is small difference between the experimental method of obtaining $M-T$ than the theoretical method. In experiments, measurements are done in sufficiently high fields to remove the domains, whereas the theory is valid in the `interior` of domains.\n",
    "\n",
    "> Assumption:\n",
    "> To avoid this discrepancy, it is sufficient to `assume` that $H = 0$ case is the end of a process in which a finite field is applied, and slowly reduced to zero.\n"
   ]
  },
  {
   "cell_type": "markdown",
   "metadata": {},
   "source": [
    "## Numerical solution to the $M-T$ curve\n",
    "\n",
    "### Picard's method of zeros:\n",
    "\n",
    "Let us use the picard's method of finding zeros numerically. To find the solution for $f(x)=0$ it is suggested to find the solution for $g(x)=x$ where $g(x)=f(x)+x$. The method involves\n",
    "\n",
    "- starting with a guess solution $x_{0}^{(0)}$. To the zeroth order approximation, this is the solution\n",
    "- To the first order approximation, $x_{0}^{(1)} = g(x_{0}^{(0)})$.\n",
    "- Similarly, to the $\\text{n}^{\\text{th}}$ order approximation, $x_{0}^{(n)} = g(x_{0}^{(n-1)})$.\n",
    "- Setting a convergence criterion for successive approximation, we reach the solution i.e. $x_{0}^{(n)} - x_{0}^{(n-1)} < \\epsilon$.\n",
    "\n",
    "$$f(x) = B_{S}(x)- x$$\n",
    "$$B_{S}(x)  =  \\frac{2S + 1}{2S} \\coth \\Big( \\frac{\\overline{2S+1}}{2S} x \\Big) - \\frac{1}{2S} \\coth \\Big( \\frac{1}{2S} x \\Big)$$\n",
    "\n",
    "Here $g(x) = B_{S}(x)$. Programmatically, this method can be implemented in the form of a *recursive function*. \n"
   ]
  },
  {
   "cell_type": "code",
   "execution_count": 2,
   "metadata": {},
   "outputs": [],
   "source": [
    "import numpy as np\n",
    "import matplotlib.pyplot as plt"
   ]
  },
  {
   "cell_type": "code",
   "execution_count": 3,
   "metadata": {},
   "outputs": [],
   "source": [
    "def brillouin(x,S):\n",
    "    factor1 = (2.0*S+1.0)/(2.0*S)\n",
    "    factor2 = 1.0/(2.0*S)\n",
    "    return factor1/np.tanh(factor1*x) - factor2/np.tanh(factor2*x)"
   ]
  },
  {
   "cell_type": "code",
   "execution_count": 81,
   "metadata": {},
   "outputs": [],
   "source": [
    "def transcendental(u_n, h, a, S, n):\n",
    "    if n == 0:\n",
    "        #print(f'iteration is {n}')\n",
    "        return brillouin(h + a * u_n, S)\n",
    "    else:\n",
    "        #print(f'iteration is {n}')\n",
    "        u_nless1 = h + a*transcendental(u_n, h, a, S, n-1)\n",
    "        return brillouin(u_nless1, S)"
   ]
  },
  {
   "cell_type": "markdown",
   "metadata": {},
   "source": [
    "Let us test the stability of the Picard's method by implementing the recursion 1000 times. For various values of h, a, S the stability is good as seen in the graph below"
   ]
  },
  {
   "cell_type": "code",
   "execution_count": 117,
   "metadata": {},
   "outputs": [],
   "source": [
    "u0 = 0.0 # initial guess solution\n",
    "h = 0.001\n",
    "a = 0.1\n",
    "S = 0.5\n",
    "n = 1000 # order of refinement of moment \n",
    "array_u = np.zeros(n) # to store the value of u after each iteration\n",
    "x = np.arange(n)\n",
    "for i in x:\n",
    "    array_u[i] = transcendental(u0, h, a, S, i)"
   ]
  },
  {
   "cell_type": "code",
   "execution_count": 116,
   "metadata": {},
   "outputs": [
    {
     "data": {
      "text/plain": [
       "Text(0.5, 1.0, 'numerical solution of M-T')"
      ]
     },
     "execution_count": 116,
     "metadata": {},
     "output_type": "execute_result"
    },
    {
     "data": {
      "image/png": "[encoded data removed]",
      "text/plain": [
       "<Figure size 432x288 with 1 Axes>"
      ]
     },
     "metadata": {
      "needs_background": "light"
     },
     "output_type": "display_data"
    }
   ],
   "source": [
    "plt.plot(x, array_u,'k',label='u convergence')\n",
    "plt.xlabel('n')\n",
    "plt.ylabel(r'$\\mu$')\n",
    "plt.title('numerical solution of M-T')"
   ]
  },
  {
   "cell_type": "markdown",
   "metadata": {},
   "source": [
    "After initial testing of the stability of the Picard's method, to find the solution of the transcendental equation, let us run the iterations 1000 times. This will sufficiently stabilise the solution for each value of a in the range $[0,\\infty)$ where $0$ corresponds to infinite temperature and $\\infty$ value corresponds to zero temperature. For the plot to be in tandem with M-T curve, let us use the variable $1/\\alpha$. The numerical solution to M-T curve is plotted below."
   ]
  },
  {
   "cell_type": "code",
   "execution_count": 119,
   "metadata": {},
   "outputs": [],
   "source": [
    "a_inverse = np.arange(1e-5,2.0,0.01)\n",
    "a = 1.0/a_inverse\n",
    "S = 0.5\n",
    "u0 = 0.0\n",
    "h = 0.001\n",
    "n = 1000 # no of iterations for convergence\n",
    "u = transcendental(u0, h, a, S, n)"
   ]
  },
  {
   "cell_type": "code",
   "execution_count": 120,
   "metadata": {},
   "outputs": [
    {
     "data": {
      "text/plain": [
       "<matplotlib.legend.Legend at 0x21d620cc988>"
      ]
     },
     "execution_count": 120,
     "metadata": {},
     "output_type": "execute_result"
    },
    {
     "data": {
      "image/png": "[encoded data removed]",
      "text/plain": [
       "<Figure size 432x288 with 1 Axes>"
      ]
     },
     "metadata": {
      "needs_background": "light"
     },
     "output_type": "display_data"
    }
   ],
   "source": [
    "plt.plot(a_inverse, u, 'k', label='@ h = 0.001')\n",
    "plt.xlabel(r'$\\frac{1}{\\alpha} (\\propto T)$')\n",
    "plt.ylabel(r'$\\mu = \\frac{\\langle S_{z} \\rangle}{S}$')\n",
    "plt.title('M-T curve')\n",
    "plt.legend(loc='best')"
   ]
  },
  {
   "cell_type": "markdown",
   "metadata": {},
   "source": [
    "Now we have assumed some finite value for the external field $h$. To highlight the spontaneous magnetization behaviour of ferromagnetism, we need to find the $M-T$ for vanishing external field. Below the plots for vanishing h are given similar to the experimental method of obtaining moments."
   ]
  },
  {
   "cell_type": "code",
   "execution_count": 94,
   "metadata": {},
   "outputs": [],
   "source": [
    "def mu_h(h):\n",
    "    return transcendental(u0, h, a, S, n)"
   ]
  },
  {
   "cell_type": "code",
   "execution_count": 112,
   "metadata": {},
   "outputs": [
    {
     "data": {
      "text/plain": [
       "<matplotlib.legend.Legend at 0x21d621827c8>"
      ]
     },
     "execution_count": 112,
     "metadata": {},
     "output_type": "execute_result"
    },
    {
     "data": {
      "image/png": "[encoded data removed]",
      "text/plain": [
       "<Figure size 432x288 with 1 Axes>"
      ]
     },
     "metadata": {
      "needs_background": "light"
     },
     "output_type": "display_data"
    }
   ],
   "source": [
    "h = np.array([1e-5,1e-4,1e-3,1e-2,1e-1, 1e+0])\n",
    "#h = np.array([1e-5, 1e-4])\n",
    "for i in np.arange(len(h)):\n",
    "    u = transcendental(u0, h[i], a, S, n)\n",
    "    plt.plot(a_inverse, u, label=f'h = {h[i]}')\n",
    "plt.xlabel(r'$\\frac{1}{\\alpha} (\\propto T)$')\n",
    "plt.ylabel(r'$\\mu = \\frac{\\langle S_{z} \\rangle}{S}$')\n",
    "plt.title('external field dependence on M-T')\n",
    "plt.legend(loc='best')"
   ]
  },
  {
   "cell_type": "code",
   "execution_count": null,
   "metadata": {},
   "outputs": [],
   "source": []
  }
 ],
 "metadata": {
  "kernelspec": {
   "display_name": "Python 3",
   "language": "python",
   "name": "python3"
  },
  "language_info": {
   "codemirror_mode": {
    "name": "ipython",
    "version": 3
   },
   "file_extension": ".py",
   "mimetype": "text/x-python",
   "name": "python",
   "nbconvert_exporter": "python",
   "pygments_lexer": "ipython3",
   "version": "3.7.4"
  }
 },
 "nbformat": 4,
 "nbformat_minor": 2
}
